{
 "cells": [
  {
   "cell_type": "code",
   "execution_count": null,
   "metadata": {},
   "outputs": [],
   "source": [
    "import os\n",
    "import json\n",
    "\n",
    "import numpy as np\n",
    "import pandas as pd"
   ]
  },
  {
   "cell_type": "code",
   "execution_count": null,
   "metadata": {},
   "outputs": [],
   "source": [
    "output_dir = \"/home/thanh/google_fast_or_slow/outputs_xla_default\"\n",
    "fold_folders = [os.path.join(output_dir, f) for f in os.listdir(output_dir) if os.path.isdir(os.path.join(output_dir, f)) and f.startswith(\"fold\")]\n",
    "fold_folders"
   ]
  },
  {
   "cell_type": "code",
   "execution_count": 22,
   "metadata": {},
   "outputs": [],
   "source": [
    "fold_predictions_dict = {}\n",
    "\n",
    "for folder in fold_folders:\n",
    "    base_prediction = np.load(os.path.join(folder, \"predictions.npy\"), allow_pickle=True).item()\n",
    "    base_prediction_dict = {file: prob for file, prob in zip(base_prediction[\"prediction_files\"], base_prediction[\"predictions_probs\"])}\n",
    "\n",
    "    finetuning_dict = {}\n",
    "    for test_file in os.listdir(os.path.join(folder, \"finetuning\")):\n",
    "        test_file_prediction = np.load(os.path.join(folder, \"finetuning\", test_file, \"predictions.npy\"), allow_pickle=True).item()\n",
    "        for file, prob in zip(test_file_prediction[\"prediction_files\"], test_file_prediction[\"predictions_probs\"]):\n",
    "            finetuning_dict[file] = prob\n",
    "\n",
    "    final_dict = {}\n",
    "    for file, prob in base_prediction_dict.items():\n",
    "        final_dict[file] = prob\n",
    "    for file, prob in finetuning_dict.items():\n",
    "        final_dict[file] = prob\n",
    "    \n",
    "    fold_predictions_dict[os.path.basename(folder)] = final_dict"
   ]
  },
  {
   "cell_type": "code",
   "execution_count": 32,
   "metadata": {},
   "outputs": [
    {
     "data": {
      "text/html": [
       "<div>\n",
       "<style scoped>\n",
       "    .dataframe tbody tr th:only-of-type {\n",
       "        vertical-align: middle;\n",
       "    }\n",
       "\n",
       "    .dataframe tbody tr th {\n",
       "        vertical-align: top;\n",
       "    }\n",
       "\n",
       "    .dataframe thead th {\n",
       "        text-align: right;\n",
       "    }\n",
       "</style>\n",
       "<table border=\"1\" class=\"dataframe\">\n",
       "  <thead>\n",
       "    <tr style=\"text-align: right;\">\n",
       "      <th></th>\n",
       "      <th>ID</th>\n",
       "      <th>TopConfigs</th>\n",
       "    </tr>\n",
       "  </thead>\n",
       "  <tbody>\n",
       "    <tr>\n",
       "      <th>0</th>\n",
       "      <td>layout:xla:default:05ae41e26dd3c4c06390371a042...</td>\n",
       "      <td>481;575;988;295;197;832;302;450;770;912;67;908...</td>\n",
       "    </tr>\n",
       "    <tr>\n",
       "      <th>1</th>\n",
       "      <td>layout:xla:default:3e7156ac468dfb75cf5c9615e1e...</td>\n",
       "      <td>263;903;324;111;97;376;131;52;530;893;882;153;...</td>\n",
       "    </tr>\n",
       "    <tr>\n",
       "      <th>2</th>\n",
       "      <td>layout:xla:default:5335ed13823b0a518ee3c79ba44...</td>\n",
       "      <td>631;296;710;978;664;398;454;179;196;746;99;384...</td>\n",
       "    </tr>\n",
       "    <tr>\n",
       "      <th>3</th>\n",
       "      <td>layout:xla:default:937ee0eb0d5d6151b7b8252933b...</td>\n",
       "      <td>149;272;126;429;605;128;337;296;414;495;29;789...</td>\n",
       "    </tr>\n",
       "    <tr>\n",
       "      <th>4</th>\n",
       "      <td>layout:xla:default:cd708819d3f5103afd6460b15e7...</td>\n",
       "      <td>502;412;80;239;31;308;155;124;87;89;57;732;190...</td>\n",
       "    </tr>\n",
       "    <tr>\n",
       "      <th>5</th>\n",
       "      <td>layout:xla:default:db59a991b7c607634f13570d52c...</td>\n",
       "      <td>179;353;730;999;712;546;837;48;249;68;871;296;...</td>\n",
       "    </tr>\n",
       "    <tr>\n",
       "      <th>6</th>\n",
       "      <td>layout:xla:default:e8a3a1401b5e79f66d7037e424f...</td>\n",
       "      <td>996;437;210;487;238;114;388;165;9;366;221;413;...</td>\n",
       "    </tr>\n",
       "    <tr>\n",
       "      <th>7</th>\n",
       "      <td>layout:xla:default:fbaa8bb6a1aed9988281085c910...</td>\n",
       "      <td>681;539;401;161;425;775;986;872;824;474;211;50...</td>\n",
       "    </tr>\n",
       "  </tbody>\n",
       "</table>\n",
       "</div>"
      ],
      "text/plain": [
       "                                                  ID  \\\n",
       "0  layout:xla:default:05ae41e26dd3c4c06390371a042...   \n",
       "1  layout:xla:default:3e7156ac468dfb75cf5c9615e1e...   \n",
       "2  layout:xla:default:5335ed13823b0a518ee3c79ba44...   \n",
       "3  layout:xla:default:937ee0eb0d5d6151b7b8252933b...   \n",
       "4  layout:xla:default:cd708819d3f5103afd6460b15e7...   \n",
       "5  layout:xla:default:db59a991b7c607634f13570d52c...   \n",
       "6  layout:xla:default:e8a3a1401b5e79f66d7037e424f...   \n",
       "7  layout:xla:default:fbaa8bb6a1aed9988281085c910...   \n",
       "\n",
       "                                          TopConfigs  \n",
       "0  481;575;988;295;197;832;302;450;770;912;67;908...  \n",
       "1  263;903;324;111;97;376;131;52;530;893;882;153;...  \n",
       "2  631;296;710;978;664;398;454;179;196;746;99;384...  \n",
       "3  149;272;126;429;605;128;337;296;414;495;29;789...  \n",
       "4  502;412;80;239;31;308;155;124;87;89;57;732;190...  \n",
       "5  179;353;730;999;712;546;837;48;249;68;871;296;...  \n",
       "6  996;437;210;487;238;114;388;165;9;366;221;413;...  \n",
       "7  681;539;401;161;425;775;986;872;824;474;211;50...  "
      ]
     },
     "execution_count": 32,
     "metadata": {},
     "output_type": "execute_result"
    }
   ],
   "source": [
    "from collections import defaultdict\n",
    "\n",
    "mean_predictions_dict = defaultdict(list)\n",
    "\n",
    "for file in fold_predictions_dict[\"fold_0\"].keys():\n",
    "    for key in fold_predictions_dict.keys():\n",
    "        mean_predictions_dict[file].append(fold_predictions_dict[key][file])\n",
    "\n",
    "mean_predictions_dict = {file: np.mean(np.array(probs), axis=0) for file, probs in mean_predictions_dict.items()}\n",
    "# get argsort\n",
    "mean_predictions_dict = {file: np.argsort(probs) for file, probs in mean_predictions_dict.items()}\n",
    "\n",
    "df = pd.DataFrame.from_dict({\n",
    "    \"ID\": mean_predictions_dict.keys(),\n",
    "    \"TopConfigs\": mean_predictions_dict.values()\n",
    "})\n",
    "df[\"TopConfigs\"] = df[\"TopConfigs\"].apply(lambda x: \";\".join([str(i) for i in x]))\n",
    "df"
   ]
  },
  {
   "cell_type": "code",
   "execution_count": null,
   "metadata": {},
   "outputs": [],
   "source": []
  },
  {
   "cell_type": "code",
   "execution_count": null,
   "metadata": {},
   "outputs": [],
   "source": []
  }
 ],
 "metadata": {
  "kernelspec": {
   "display_name": "env38",
   "language": "python",
   "name": "python3"
  },
  "language_info": {
   "codemirror_mode": {
    "name": "ipython",
    "version": 3
   },
   "file_extension": ".py",
   "mimetype": "text/x-python",
   "name": "python",
   "nbconvert_exporter": "python",
   "pygments_lexer": "ipython3",
   "version": "3.8.16"
  }
 },
 "nbformat": 4,
 "nbformat_minor": 2
}
