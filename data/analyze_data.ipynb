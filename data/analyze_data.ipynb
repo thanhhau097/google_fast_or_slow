{
 "cells": [
  {
   "cell_type": "code",
   "execution_count": 99,
   "metadata": {},
   "outputs": [],
   "source": [
    "import numpy as np\n",
    "\n",
    "bs16 = dict(np.load(\"/home/thanh/google_fast_or_slow/data/npz_all/npz/layout/xla_compressed/random/train/inception_v2_batch_8_train.npz\"))\n",
    "bs32 = dict(np.load(\"/home/thanh/google_fast_or_slow/data/npz_all/npz/layout/xla_compressed/random/train/inception_v2_batch_128_train.npz\"))"
   ]
  },
  {
   "cell_type": "code",
   "execution_count": 100,
   "metadata": {},
   "outputs": [
    {
     "name": "stdout",
     "output_type": "stream",
     "text": [
      "edge_index (782, 2) (782, 2)\n",
      "node_feat (768, 140) (768, 140)\n",
      "node_opcode (768,) (768,)\n",
      "node_config_feat (7533, 216, 3) (5705, 216, 3)\n",
      "node_config_ids (216,) (216,)\n",
      "node_splits (1, 3) (1, 3)\n",
      "config_runtime (7533,) (5705,)\n"
     ]
    }
   ],
   "source": [
    "for k in bs16.keys():\n",
    "    print(k, bs16[k].shape, bs32[k].shape)"
   ]
  },
  {
   "cell_type": "code",
   "execution_count": 104,
   "metadata": {},
   "outputs": [
    {
     "name": "stderr",
     "output_type": "stream",
     "text": [
      "  0%|          | 0/5000 [00:00<?, ?it/s]"
     ]
    },
    {
     "name": "stderr",
     "output_type": "stream",
     "text": [
      "100%|██████████| 5000/5000 [00:25<00:00, 194.18it/s]"
     ]
    },
    {
     "name": "stdout",
     "output_type": "stream",
     "text": [
      "0 7533 0.0\n"
     ]
    },
    {
     "name": "stderr",
     "output_type": "stream",
     "text": [
      "\n"
     ]
    }
   ],
   "source": [
    "import numpy as np\n",
    "from tqdm import tqdm\n",
    "from multiprocessing import Pool, cpu_count, Manager\n",
    "\n",
    "def init_worker(bs16_data, bs32_data, shared_list):\n",
    "    global bs16_node_config_feat\n",
    "    global bs32_node_config_feat\n",
    "    global similar_pairs_list\n",
    "    bs16_node_config_feat = bs16_data\n",
    "    bs32_node_config_feat = bs32_data\n",
    "    similar_pairs_list = shared_list\n",
    "\n",
    "def find_similar_pairs(i, bs32_range):\n",
    "    # We avoid using global tqdm as it is not well supported in multiprocessing\n",
    "    # Progress bar should be handled in the main process if needed\n",
    "    similar_pairs = []\n",
    "    for j in bs32_range:\n",
    "        if np.all(bs16_node_config_feat[i] == bs32_node_config_feat[j]):\n",
    "            similar_pairs.append((i, j))\n",
    "    return similar_pairs\n",
    "\n",
    "def update_progress_bar(job, pbar):\n",
    "    for _ in job:\n",
    "        pbar.update()\n",
    "\n",
    "\n",
    "# Shared list to collect results\n",
    "manager = Manager()\n",
    "similar_pairs = manager.list()\n",
    "\n",
    "# Number of workers equal to the number of CPU cores\n",
    "num_workers = cpu_count()\n",
    "\n",
    "# We use a context manager to ensure processes are cleaned up properly\n",
    "with Pool(processes=num_workers, initializer=init_worker, initargs=(bs16[\"node_config_feat\"], bs32[\"node_config_feat\"], similar_pairs)) as pool:\n",
    "    jobs = []\n",
    "    # Set up a tqdm progress bar\n",
    "    with tqdm(total=bs16[\"node_config_feat\"].shape[0]) as pbar:\n",
    "        for i in range(bs16[\"node_config_feat\"].shape[0]):\n",
    "            # Each job processes a different row of bs16_node_config_feat\n",
    "            job = pool.apply_async(find_similar_pairs, args=(i, range(bs32[\"node_config_feat\"].shape[0])), callback=lambda _: pbar.update())\n",
    "            jobs.append(job)\n",
    "\n",
    "        # Collect results\n",
    "        results = [job.get() for job in jobs]\n",
    "\n",
    "# Flatten the list of results\n",
    "similar_pairs = [pair for sublist in results for pair in sublist]\n",
    "\n",
    "print(len(similar_pairs), bs16[\"node_config_feat\"].shape[0], len(similar_pairs) / bs16[\"node_config_feat\"].shape[0])\n"
   ]
  },
  {
   "cell_type": "code",
   "execution_count": 105,
   "metadata": {},
   "outputs": [
    {
     "data": {
      "text/plain": [
       "[]"
      ]
     },
     "execution_count": 105,
     "metadata": {},
     "output_type": "execute_result"
    }
   ],
   "source": [
    "similar_pairs"
   ]
  },
  {
   "cell_type": "code",
   "execution_count": 89,
   "metadata": {},
   "outputs": [
    {
     "name": "stdout",
     "output_type": "stream",
     "text": [
      "5476257 10024139 \t ratio = 0.546306969606068\n",
      "5478625 10026062 \t ratio = 0.5464383723140751\n",
      "5513079 10041219 \t ratio = 0.5490447922707392\n",
      "5512130 10043622 \t ratio = 0.5488189420111589\n",
      "5479048 10018717 \t ratio = 0.546881202453368\n",
      "5973237 10646859 \t ratio = 0.5610327891070972\n",
      "5476740 10023782 \t ratio = 0.5463746118979842\n",
      "5474530 10018082 \t ratio = 0.546464882200006\n"
     ]
    }
   ],
   "source": [
    "bs16[\"config_runtime\"][[pair[0] for pair in similar_pairs]].tolist(), bs32[\"config_runtime\"][[pair[1] for pair in similar_pairs]].tolist()\n",
    "\n",
    "for i, j in similar_pairs:\n",
    "    print(\n",
    "        bs16[\"config_runtime\"][i],\n",
    "        bs32[\"config_runtime\"][j],\n",
    "        \"\\t ratio =\", bs16[\"config_runtime\"][i] / bs32[\"config_runtime\"][j]\n",
    "    )"
   ]
  },
  {
   "cell_type": "code",
   "execution_count": 93,
   "metadata": {},
   "outputs": [
    {
     "data": {
      "text/plain": [
       "(array([7, 0, 6, 1, 4, 3, 2, 5]), array([7, 4, 6, 0, 1, 2, 3, 5]))"
      ]
     },
     "execution_count": 93,
     "metadata": {},
     "output_type": "execute_result"
    }
   ],
   "source": [
    "np.argsort(bs16[\"config_runtime\"][[pair[0] for pair in similar_pairs]]), np.argsort(bs32[\"config_runtime\"][[pair[1] for pair in similar_pairs]])\n"
   ]
  },
  {
   "cell_type": "code",
   "execution_count": null,
   "metadata": {},
   "outputs": [],
   "source": []
  },
  {
   "cell_type": "code",
   "execution_count": null,
   "metadata": {},
   "outputs": [],
   "source": []
  },
  {
   "cell_type": "code",
   "execution_count": null,
   "metadata": {},
   "outputs": [],
   "source": []
  },
  {
   "cell_type": "code",
   "execution_count": 114,
   "metadata": {},
   "outputs": [
    {
     "name": "stderr",
     "output_type": "stream",
     "text": [
      "100%|██████████| 76/76 [00:00<00:00, 1601.95it/s]\n",
      "100%|██████████| 8/8 [00:00<00:00, 1301.57it/s]\n"
     ]
    },
    {
     "name": "stdout",
     "output_type": "stream",
     "text": [
      "Source: xla Search: random\n",
      "count/total 5 8\n",
      "937ee0eb0d5d6151b7b8252933b5c1c9.npz ['resnet50.2x2.fp32.npz']\n",
      "5335ed13823b0a518ee3c79ba4425f34.npz ['efficientnet_b7_eval_batch_1.npz']\n",
      "db59a991b7c607634f13570d52ce885f.npz ['resnet_v1_50_official_batch_128_f32.npz']\n",
      "05ae41e26dd3c4c06390371a0423233c.npz ['efficientnet_b7_eval_batch_1.npz']\n",
      "fbaa8bb6a1aed9988281085c91065c05.npz ['inference_mlperf_ssd_1200_batch_128.npz']\n",
      "--------------------------------------------------------------------------------------------------------------\n"
     ]
    },
    {
     "name": "stderr",
     "output_type": "stream",
     "text": [
      "100%|██████████| 68/68 [00:00<00:00, 1675.32it/s]\n",
      "100%|██████████| 8/8 [00:00<00:00, 1366.78it/s]\n"
     ]
    },
    {
     "name": "stdout",
     "output_type": "stream",
     "text": [
      "Source: xla Search: default\n",
      "count/total 5 8\n",
      "937ee0eb0d5d6151b7b8252933b5c1c9.npz ['resnet50.2x2.fp32.npz']\n",
      "5335ed13823b0a518ee3c79ba4425f34.npz ['efficientnet_b7_eval_batch_1.npz']\n",
      "db59a991b7c607634f13570d52ce885f.npz ['resnet_v1_50_official_batch_128_f32.npz']\n",
      "05ae41e26dd3c4c06390371a0423233c.npz ['efficientnet_b7_eval_batch_1.npz']\n",
      "fbaa8bb6a1aed9988281085c91065c05.npz ['inference_mlperf_ssd_1200_batch_128.npz']\n",
      "--------------------------------------------------------------------------------------------------------------\n"
     ]
    },
    {
     "name": "stderr",
     "output_type": "stream",
     "text": [
      "100%|██████████| 227/227 [00:00<00:00, 1897.61it/s]\n",
      "100%|██████████| 17/17 [00:00<00:00, 1451.58it/s]\n"
     ]
    },
    {
     "name": "stdout",
     "output_type": "stream",
     "text": [
      "Source: nlp Search: random\n",
      "count/total 17 17\n",
      "d15316c12eefdef1ba549eb433797f77.npz ['small_bert_bert_en_uncased_L-8_H-512_A-8_batch_size_32_test.npz', 'small_bert_bert_en_uncased_L-8_H-256_A-4_batch_size_32_test.npz', 'small_bert_bert_en_uncased_L-8_H-128_A-2_batch_size_32_test.npz', 'small_bert_bert_en_uncased_L-8_H-768_A-12_batch_size_32_test.npz', 'small_bert_bert_en_uncased_L-8_H-256_A-4_batch_size_64_test.npz', 'small_bert_bert_en_uncased_L-8_H-768_A-12_batch_size_64_test.npz', 'small_bert_bert_en_uncased_L-8_H-768_A-12_batch_size_16_test.npz', 'small_bert_bert_en_uncased_L-8_H-128_A-2_batch_size_16_test.npz', 'small_bert_bert_en_uncased_L-8_H-512_A-8_batch_size_16_test.npz']\n",
      "7f6284ebe027b1e9a3850fc703858a59.npz ['experts_wiki_books_batch_size_32_test.npz', 'small_bert_bert_en_uncased_L-12_H-512_A-8_batch_size_64_test.npz', 'small_bert_bert_en_uncased_L-12_H-512_A-8_batch_size_16_test.npz', 'electra_base_batch_size_32_test.npz', 'experts_pubmed_batch_size_64_test.npz', 'small_bert_bert_en_uncased_L-12_H-768_A-12_batch_size_32_test.npz', 'bert_en_uncased_L-12_H-768_A-12_batch_size_16_test.npz', 'bert_multi_cased_L-12_H-768_A-12_batch_size_32_test.npz', 'experts_wiki_books_batch_size_16_test.npz', 'bert_en_cased_L-12_H-768_A-12_batch_size_32_test.npz', 'small_bert_bert_en_uncased_L-12_H-128_A-2_batch_size_32_test.npz', 'bert_en_cased_L-12_H-768_A-12_batch_size_64_test.npz', 'small_bert_bert_en_uncased_L-12_H-768_A-12_batch_size_16_test.npz', 'bert_en_uncased_L-12_H-768_A-12_batch_size_64_test.npz', 'small_bert_bert_en_uncased_L-12_H-128_A-2_batch_size_64_test.npz', 'bert_multi_cased_L-12_H-768_A-12_batch_size_64_test.npz', 'small_bert_bert_en_uncased_L-12_H-512_A-8_batch_size_32_test.npz', 'small_bert_bert_en_uncased_L-12_H-256_A-4_batch_size_64_test.npz', 'small_bert_bert_en_uncased_L-12_H-256_A-4_batch_size_32_test.npz', 'experts_wiki_books_batch_size_64_test.npz', 'electra_base_batch_size_64_test.npz', 'bert_en_uncased_L-12_H-768_A-12_batch_size_32_test.npz', 'small_bert_bert_en_uncased_L-12_H-768_A-12_batch_size_64_test.npz', 'small_bert_bert_en_uncased_L-12_H-128_A-2_batch_size_16_test.npz', 'small_bert_bert_en_uncased_L-12_H-256_A-4_batch_size_16_test.npz', 'experts_pubmed_batch_size_32_test.npz', 'bert_en_cased_L-12_H-768_A-12_batch_size_16_test.npz']\n",
      "58cc2e418c3a8a19b871e15964b534ad.npz ['small_bert_bert_en_uncased_L-8_H-512_A-8_batch_size_32_test.npz', 'small_bert_bert_en_uncased_L-8_H-256_A-4_batch_size_32_test.npz', 'small_bert_bert_en_uncased_L-8_H-128_A-2_batch_size_32_test.npz', 'small_bert_bert_en_uncased_L-8_H-768_A-12_batch_size_32_test.npz', 'small_bert_bert_en_uncased_L-8_H-256_A-4_batch_size_64_test.npz', 'small_bert_bert_en_uncased_L-8_H-768_A-12_batch_size_64_test.npz', 'small_bert_bert_en_uncased_L-8_H-768_A-12_batch_size_16_test.npz', 'small_bert_bert_en_uncased_L-8_H-128_A-2_batch_size_16_test.npz', 'small_bert_bert_en_uncased_L-8_H-512_A-8_batch_size_16_test.npz']\n",
      "f6c146fc5cf10be4f3accbaca9897311.npz ['small_bert_bert_en_uncased_L-6_H-128_A-2_batch_size_64_train.npz', 'small_bert_bert_en_uncased_L-6_H-128_A-2_batch_size_32_train.npz', 'small_bert_bert_en_uncased_L-6_H-768_A-12_batch_size_64_train.npz', 'small_bert_bert_en_uncased_L-6_H-512_A-8_batch_size_64_train.npz', 'small_bert_bert_en_uncased_L-6_H-768_A-12_batch_size_16_train.npz', 'small_bert_bert_en_uncased_L-6_H-256_A-4_batch_size_32_train.npz', 'small_bert_bert_en_uncased_L-6_H-128_A-2_batch_size_16_train.npz', 'small_bert_bert_en_uncased_L-6_H-512_A-8_batch_size_16_train.npz', 'small_bert_bert_en_uncased_L-6_H-256_A-4_batch_size_16_train.npz', 'small_bert_bert_en_uncased_L-6_H-768_A-12_batch_size_32_train.npz', 'small_bert_bert_en_uncased_L-6_H-256_A-4_batch_size_64_train.npz']\n",
      "492c7a94d559aa4a88769142d2a68362.npz ['small_bert_bert_en_uncased_L-8_H-512_A-8_batch_size_64_train.npz', 'small_bert_bert_en_uncased_L-8_H-512_A-8_batch_size_32_train.npz', 'small_bert_bert_en_uncased_L-8_H-256_A-4_batch_size_32_train.npz', 'small_bert_bert_en_uncased_L-8_H-128_A-2_batch_size_32_train.npz', 'small_bert_bert_en_uncased_L-8_H-768_A-12_batch_size_16_train.npz', 'small_bert_bert_en_uncased_L-8_H-128_A-2_batch_size_64_train.npz', 'small_bert_bert_en_uncased_L-8_H-768_A-12_batch_size_64_train.npz', 'small_bert_bert_en_uncased_L-8_H-256_A-4_batch_size_16_train.npz', 'small_bert_bert_en_uncased_L-8_H-128_A-2_batch_size_16_train.npz', 'small_bert_bert_en_uncased_L-8_H-512_A-8_batch_size_16_train.npz', 'small_bert_bert_en_uncased_L-8_H-256_A-4_batch_size_64_train.npz']\n",
      "38524e2ff135ded55b5286407e7af6b7.npz ['experts_wiki_books_batch_size_32_test.npz', 'small_bert_bert_en_uncased_L-12_H-512_A-8_batch_size_64_test.npz', 'small_bert_bert_en_uncased_L-12_H-512_A-8_batch_size_16_test.npz', 'electra_base_batch_size_32_test.npz', 'experts_pubmed_batch_size_64_test.npz', 'small_bert_bert_en_uncased_L-12_H-768_A-12_batch_size_32_test.npz', 'bert_en_uncased_L-12_H-768_A-12_batch_size_16_test.npz', 'bert_multi_cased_L-12_H-768_A-12_batch_size_32_test.npz', 'experts_wiki_books_batch_size_16_test.npz', 'bert_en_cased_L-12_H-768_A-12_batch_size_32_test.npz', 'small_bert_bert_en_uncased_L-12_H-128_A-2_batch_size_32_test.npz', 'bert_en_cased_L-12_H-768_A-12_batch_size_64_test.npz', 'small_bert_bert_en_uncased_L-12_H-768_A-12_batch_size_16_test.npz', 'bert_en_uncased_L-12_H-768_A-12_batch_size_64_test.npz', 'small_bert_bert_en_uncased_L-12_H-128_A-2_batch_size_64_test.npz', 'bert_multi_cased_L-12_H-768_A-12_batch_size_64_test.npz', 'small_bert_bert_en_uncased_L-12_H-512_A-8_batch_size_32_test.npz', 'small_bert_bert_en_uncased_L-12_H-256_A-4_batch_size_64_test.npz', 'small_bert_bert_en_uncased_L-12_H-256_A-4_batch_size_32_test.npz', 'experts_wiki_books_batch_size_64_test.npz', 'electra_base_batch_size_64_test.npz', 'bert_en_uncased_L-12_H-768_A-12_batch_size_32_test.npz', 'small_bert_bert_en_uncased_L-12_H-768_A-12_batch_size_64_test.npz', 'small_bert_bert_en_uncased_L-12_H-128_A-2_batch_size_16_test.npz', 'small_bert_bert_en_uncased_L-12_H-256_A-4_batch_size_16_test.npz', 'experts_pubmed_batch_size_32_test.npz', 'bert_en_cased_L-12_H-768_A-12_batch_size_16_test.npz']\n",
      "6c1101f6231f4d1722c3b9f6d1e25026.npz ['small_bert_bert_en_uncased_L-2_H-128_A-2_batch_size_16_train.npz', 'small_bert_bert_en_uncased_L-2_H-256_A-4_batch_size_16_train.npz', 'small_bert_bert_en_uncased_L-2_H-512_A-8_batch_size_64_train.npz', 'small_bert_bert_en_uncased_L-2_H-256_A-4_batch_size_64_train.npz', 'small_bert_bert_en_uncased_L-2_H-768_A-12_batch_size_16_train.npz', 'small_bert_bert_en_uncased_L-2_H-768_A-12_batch_size_32_train.npz', 'small_bert_bert_en_uncased_L-2_H-128_A-2_batch_size_64_train.npz', 'small_bert_bert_en_uncased_L-2_H-512_A-8_batch_size_32_train.npz', 'small_bert_bert_en_uncased_L-2_H-512_A-8_batch_size_16_train.npz', 'small_bert_bert_en_uncased_L-2_H-256_A-4_batch_size_32_train.npz']\n",
      "60880ed76de53f4d7a1b960b24f20f7d.npz ['experts_wiki_books_batch_size_32_test.npz', 'small_bert_bert_en_uncased_L-12_H-512_A-8_batch_size_64_test.npz', 'small_bert_bert_en_uncased_L-12_H-512_A-8_batch_size_16_test.npz', 'electra_base_batch_size_32_test.npz', 'experts_pubmed_batch_size_64_test.npz', 'small_bert_bert_en_uncased_L-12_H-768_A-12_batch_size_32_test.npz', 'bert_en_uncased_L-12_H-768_A-12_batch_size_16_test.npz', 'bert_multi_cased_L-12_H-768_A-12_batch_size_32_test.npz', 'experts_wiki_books_batch_size_16_test.npz', 'bert_en_cased_L-12_H-768_A-12_batch_size_32_test.npz', 'small_bert_bert_en_uncased_L-12_H-128_A-2_batch_size_32_test.npz', 'bert_en_cased_L-12_H-768_A-12_batch_size_64_test.npz', 'small_bert_bert_en_uncased_L-12_H-768_A-12_batch_size_16_test.npz', 'bert_en_uncased_L-12_H-768_A-12_batch_size_64_test.npz', 'small_bert_bert_en_uncased_L-12_H-128_A-2_batch_size_64_test.npz', 'bert_multi_cased_L-12_H-768_A-12_batch_size_64_test.npz', 'small_bert_bert_en_uncased_L-12_H-512_A-8_batch_size_32_test.npz', 'small_bert_bert_en_uncased_L-12_H-256_A-4_batch_size_64_test.npz', 'small_bert_bert_en_uncased_L-12_H-256_A-4_batch_size_32_test.npz', 'experts_wiki_books_batch_size_64_test.npz', 'electra_base_batch_size_64_test.npz', 'bert_en_uncased_L-12_H-768_A-12_batch_size_32_test.npz', 'small_bert_bert_en_uncased_L-12_H-768_A-12_batch_size_64_test.npz', 'small_bert_bert_en_uncased_L-12_H-128_A-2_batch_size_16_test.npz', 'small_bert_bert_en_uncased_L-12_H-256_A-4_batch_size_16_test.npz', 'experts_pubmed_batch_size_32_test.npz', 'bert_en_cased_L-12_H-768_A-12_batch_size_16_test.npz']\n",
      "7105451001e119f65b66570d170b94a8.npz ['small_bert_bert_en_uncased_L-2_H-128_A-2_batch_size_16_train.npz', 'small_bert_bert_en_uncased_L-2_H-256_A-4_batch_size_16_train.npz', 'small_bert_bert_en_uncased_L-2_H-512_A-8_batch_size_64_train.npz', 'small_bert_bert_en_uncased_L-2_H-256_A-4_batch_size_64_train.npz', 'small_bert_bert_en_uncased_L-2_H-768_A-12_batch_size_16_train.npz', 'small_bert_bert_en_uncased_L-2_H-768_A-12_batch_size_32_train.npz', 'small_bert_bert_en_uncased_L-2_H-128_A-2_batch_size_64_train.npz', 'small_bert_bert_en_uncased_L-2_H-512_A-8_batch_size_32_train.npz', 'small_bert_bert_en_uncased_L-2_H-512_A-8_batch_size_16_train.npz', 'small_bert_bert_en_uncased_L-2_H-256_A-4_batch_size_32_train.npz']\n",
      "29886a50d55cfe77a9497bc906c76ce9.npz ['small_bert_bert_en_uncased_L-4_H-256_A-4_batch_size_64_train.npz', 'small_bert_bert_en_uncased_L-4_H-768_A-12_batch_size_32_train.npz', 'small_bert_bert_en_uncased_L-4_H-256_A-4_batch_size_16_train.npz', 'small_bert_bert_en_uncased_L-4_H-128_A-2_batch_size_32_train.npz', 'small_bert_bert_en_uncased_L-4_H-768_A-12_batch_size_64_train.npz', 'small_bert_bert_en_uncased_L-4_H-768_A-12_batch_size_16_train.npz', 'small_bert_bert_en_uncased_L-4_H-512_A-8_batch_size_64_train.npz', 'small_bert_bert_en_uncased_L-4_H-128_A-2_batch_size_16_train.npz', 'small_bert_bert_en_uncased_L-4_H-256_A-4_batch_size_32_train.npz', 'small_bert_bert_en_uncased_L-4_H-512_A-8_batch_size_32_train.npz']\n",
      "23559853d9702baaaacbb0c83fd32266.npz ['small_bert_bert_en_uncased_L-4_H-256_A-4_batch_size_32_test.npz', 'small_bert_bert_en_uncased_L-4_H-512_A-8_batch_size_32_test.npz', 'small_bert_bert_en_uncased_L-4_H-128_A-2_batch_size_32_test.npz', 'small_bert_bert_en_uncased_L-4_H-256_A-4_batch_size_16_test.npz', 'small_bert_bert_en_uncased_L-4_H-768_A-12_batch_size_64_test.npz', 'small_bert_bert_en_uncased_L-4_H-512_A-8_batch_size_16_test.npz', 'small_bert_bert_en_uncased_L-4_H-512_A-8_batch_size_64_test.npz', 'small_bert_bert_en_uncased_L-4_H-768_A-12_batch_size_32_test.npz', 'small_bert_bert_en_uncased_L-4_H-128_A-2_batch_size_64_test.npz', 'small_bert_bert_en_uncased_L-4_H-256_A-4_batch_size_64_test.npz']\n",
      "171b0513d8874a427ccfa46d136fbadc.npz ['small_bert_bert_en_uncased_L-12_H-256_A-4_batch_size_64_train.npz', 'experts_wiki_books_batch_size_16_train.npz', 'small_bert_bert_en_uncased_L-12_H-512_A-8_batch_size_16_train.npz', 'bert_en_uncased_L-12_H-768_A-12_batch_size_64_train.npz', 'small_bert_bert_en_uncased_L-12_H-256_A-4_batch_size_32_train.npz', 'bert_en_uncased_L-12_H-768_A-12_batch_size_16_train.npz', 'small_bert_bert_en_uncased_L-12_H-256_A-4_batch_size_16_train.npz', 'experts_pubmed_batch_size_64_train.npz', 'small_bert_bert_en_uncased_L-12_H-128_A-2_batch_size_16_train.npz', 'small_bert_bert_en_uncased_L-12_H-128_A-2_batch_size_32_train.npz', 'bert_en_cased_L-12_H-768_A-12_batch_size_16_train.npz', 'experts_wiki_books_batch_size_32_train.npz', 'experts_pubmed_batch_size_32_train.npz', 'experts_wiki_books_batch_size_64_train.npz', 'electra_base_batch_size_16_train.npz', 'electra_base_batch_size_64_train.npz', 'bert_multi_cased_L-12_H-768_A-12_batch_size_64_train.npz', 'small_bert_bert_en_uncased_L-12_H-512_A-8_batch_size_32_train.npz', 'bert_multi_cased_L-12_H-768_A-12_batch_size_32_train.npz', 'electra_base_batch_size_32_train.npz', 'small_bert_bert_en_uncased_L-12_H-512_A-8_batch_size_64_train.npz', 'small_bert_bert_en_uncased_L-12_H-768_A-12_batch_size_32_train.npz', 'bert_en_uncased_L-12_H-768_A-12_batch_size_32_train.npz', 'small_bert_bert_en_uncased_L-12_H-128_A-2_batch_size_64_train.npz', 'bert_en_cased_L-12_H-768_A-12_batch_size_64_train.npz', 'bert_en_cased_L-12_H-768_A-12_batch_size_32_train.npz', 'small_bert_bert_en_uncased_L-12_H-768_A-12_batch_size_16_train.npz', 'bert_multi_cased_L-12_H-768_A-12_batch_size_16_train.npz', 'small_bert_bert_en_uncased_L-12_H-768_A-12_batch_size_64_train.npz']\n",
      "b2fdde3b72980907578648774101543e.npz ['small_bert_bert_en_uncased_L-6_H-512_A-8_batch_size_32_test.npz', 'small_bert_bert_en_uncased_L-6_H-768_A-12_batch_size_64_test.npz', 'small_bert_bert_en_uncased_L-6_H-128_A-2_batch_size_64_test.npz', 'small_bert_bert_en_uncased_L-6_H-256_A-4_batch_size_64_test.npz', 'small_bert_bert_en_uncased_L-6_H-128_A-2_batch_size_32_test.npz', 'small_bert_bert_en_uncased_L-6_H-256_A-4_batch_size_16_test.npz', 'small_bert_bert_en_uncased_L-6_H-768_A-12_batch_size_32_test.npz', 'small_bert_bert_en_uncased_L-6_H-512_A-8_batch_size_16_test.npz', 'small_bert_bert_en_uncased_L-6_H-512_A-8_batch_size_64_test.npz', 'small_bert_bert_en_uncased_L-6_H-768_A-12_batch_size_16_test.npz']\n",
      "71b79ca6db513e7979c3702c595150c2.npz ['talking-heads_large_batch_size_32_test.npz', 'talking-heads_large_batch_size_16_test.npz']\n",
      "32531d07a084b319dce484f53a4cf3fc.npz ['small_bert_bert_en_uncased_L-4_H-256_A-4_batch_size_64_train.npz', 'small_bert_bert_en_uncased_L-4_H-768_A-12_batch_size_32_train.npz', 'small_bert_bert_en_uncased_L-4_H-256_A-4_batch_size_16_train.npz', 'small_bert_bert_en_uncased_L-4_H-128_A-2_batch_size_32_train.npz', 'small_bert_bert_en_uncased_L-4_H-768_A-12_batch_size_64_train.npz', 'small_bert_bert_en_uncased_L-4_H-768_A-12_batch_size_16_train.npz', 'small_bert_bert_en_uncased_L-4_H-512_A-8_batch_size_64_train.npz', 'small_bert_bert_en_uncased_L-4_H-128_A-2_batch_size_16_train.npz', 'small_bert_bert_en_uncased_L-4_H-256_A-4_batch_size_32_train.npz', 'small_bert_bert_en_uncased_L-4_H-512_A-8_batch_size_32_train.npz']\n",
      "3a0c5517a87df8d82fd637b83298a3ba.npz ['talking-heads_large_batch_size_32_train.npz', 'talking-heads_large_batch_size_16_train.npz']\n",
      "016ac66a44a906a695afd2228509046a.npz ['small_bert_bert_en_uncased_L-8_H-512_A-8_batch_size_32_test.npz', 'small_bert_bert_en_uncased_L-8_H-256_A-4_batch_size_32_test.npz', 'small_bert_bert_en_uncased_L-8_H-128_A-2_batch_size_32_test.npz', 'small_bert_bert_en_uncased_L-8_H-768_A-12_batch_size_32_test.npz', 'small_bert_bert_en_uncased_L-8_H-256_A-4_batch_size_64_test.npz', 'small_bert_bert_en_uncased_L-8_H-768_A-12_batch_size_64_test.npz', 'small_bert_bert_en_uncased_L-8_H-768_A-12_batch_size_16_test.npz', 'small_bert_bert_en_uncased_L-8_H-128_A-2_batch_size_16_test.npz', 'small_bert_bert_en_uncased_L-8_H-512_A-8_batch_size_16_test.npz']\n",
      "--------------------------------------------------------------------------------------------------------------\n"
     ]
    },
    {
     "name": "stderr",
     "output_type": "stream",
     "text": [
      "100%|██████████| 218/218 [00:00<00:00, 1874.89it/s]\n",
      "100%|██████████| 17/17 [00:00<00:00, 1413.29it/s]"
     ]
    },
    {
     "name": "stdout",
     "output_type": "stream",
     "text": [
      "Source: nlp Search: default\n",
      "count/total 17 17\n",
      "d15316c12eefdef1ba549eb433797f77.npz ['small_bert_bert_en_uncased_L-8_H-512_A-8_batch_size_32_test.npz', 'small_bert_bert_en_uncased_L-8_H-256_A-4_batch_size_32_test.npz', 'small_bert_bert_en_uncased_L-8_H-128_A-2_batch_size_32_test.npz', 'small_bert_bert_en_uncased_L-8_H-768_A-12_batch_size_32_test.npz', 'small_bert_bert_en_uncased_L-8_H-256_A-4_batch_size_64_test.npz', 'small_bert_bert_en_uncased_L-8_H-768_A-12_batch_size_64_test.npz', 'small_bert_bert_en_uncased_L-8_H-768_A-12_batch_size_16_test.npz', 'small_bert_bert_en_uncased_L-8_H-512_A-8_batch_size_16_test.npz']\n",
      "7f6284ebe027b1e9a3850fc703858a59.npz ['experts_wiki_books_batch_size_32_test.npz', 'small_bert_bert_en_uncased_L-12_H-512_A-8_batch_size_64_test.npz', 'small_bert_bert_en_uncased_L-12_H-512_A-8_batch_size_16_test.npz', 'electra_base_batch_size_32_test.npz', 'experts_pubmed_batch_size_64_test.npz', 'small_bert_bert_en_uncased_L-12_H-768_A-12_batch_size_32_test.npz', 'bert_en_uncased_L-12_H-768_A-12_batch_size_16_test.npz', 'bert_multi_cased_L-12_H-768_A-12_batch_size_32_test.npz', 'experts_wiki_books_batch_size_16_test.npz', 'bert_en_cased_L-12_H-768_A-12_batch_size_32_test.npz', 'small_bert_bert_en_uncased_L-12_H-128_A-2_batch_size_32_test.npz', 'bert_en_cased_L-12_H-768_A-12_batch_size_64_test.npz', 'small_bert_bert_en_uncased_L-12_H-768_A-12_batch_size_16_test.npz', 'bert_en_uncased_L-12_H-768_A-12_batch_size_64_test.npz', 'small_bert_bert_en_uncased_L-12_H-128_A-2_batch_size_64_test.npz', 'bert_multi_cased_L-12_H-768_A-12_batch_size_64_test.npz', 'small_bert_bert_en_uncased_L-12_H-512_A-8_batch_size_32_test.npz', 'small_bert_bert_en_uncased_L-12_H-256_A-4_batch_size_64_test.npz', 'small_bert_bert_en_uncased_L-12_H-256_A-4_batch_size_32_test.npz', 'experts_wiki_books_batch_size_64_test.npz', 'electra_base_batch_size_64_test.npz', 'bert_en_uncased_L-12_H-768_A-12_batch_size_32_test.npz', 'small_bert_bert_en_uncased_L-12_H-768_A-12_batch_size_64_test.npz', 'small_bert_bert_en_uncased_L-12_H-256_A-4_batch_size_16_test.npz', 'experts_pubmed_batch_size_32_test.npz', 'bert_en_cased_L-12_H-768_A-12_batch_size_16_test.npz']\n",
      "58cc2e418c3a8a19b871e15964b534ad.npz ['small_bert_bert_en_uncased_L-8_H-512_A-8_batch_size_32_test.npz', 'small_bert_bert_en_uncased_L-8_H-256_A-4_batch_size_32_test.npz', 'small_bert_bert_en_uncased_L-8_H-128_A-2_batch_size_32_test.npz', 'small_bert_bert_en_uncased_L-8_H-768_A-12_batch_size_32_test.npz', 'small_bert_bert_en_uncased_L-8_H-256_A-4_batch_size_64_test.npz', 'small_bert_bert_en_uncased_L-8_H-768_A-12_batch_size_64_test.npz', 'small_bert_bert_en_uncased_L-8_H-768_A-12_batch_size_16_test.npz', 'small_bert_bert_en_uncased_L-8_H-512_A-8_batch_size_16_test.npz']\n",
      "f6c146fc5cf10be4f3accbaca9897311.npz ['small_bert_bert_en_uncased_L-6_H-128_A-2_batch_size_64_train.npz', 'small_bert_bert_en_uncased_L-6_H-128_A-2_batch_size_32_train.npz', 'small_bert_bert_en_uncased_L-6_H-768_A-12_batch_size_64_train.npz', 'small_bert_bert_en_uncased_L-6_H-512_A-8_batch_size_64_train.npz', 'small_bert_bert_en_uncased_L-6_H-768_A-12_batch_size_16_train.npz', 'small_bert_bert_en_uncased_L-6_H-256_A-4_batch_size_32_train.npz', 'small_bert_bert_en_uncased_L-6_H-128_A-2_batch_size_16_train.npz', 'small_bert_bert_en_uncased_L-6_H-512_A-8_batch_size_16_train.npz', 'small_bert_bert_en_uncased_L-6_H-256_A-4_batch_size_16_train.npz', 'small_bert_bert_en_uncased_L-6_H-768_A-12_batch_size_32_train.npz', 'small_bert_bert_en_uncased_L-6_H-256_A-4_batch_size_64_train.npz']\n",
      "492c7a94d559aa4a88769142d2a68362.npz ['small_bert_bert_en_uncased_L-8_H-512_A-8_batch_size_64_train.npz', 'small_bert_bert_en_uncased_L-8_H-512_A-8_batch_size_32_train.npz', 'small_bert_bert_en_uncased_L-8_H-256_A-4_batch_size_32_train.npz', 'small_bert_bert_en_uncased_L-8_H-128_A-2_batch_size_32_train.npz', 'small_bert_bert_en_uncased_L-8_H-768_A-12_batch_size_16_train.npz', 'small_bert_bert_en_uncased_L-8_H-128_A-2_batch_size_64_train.npz', 'small_bert_bert_en_uncased_L-8_H-768_A-12_batch_size_64_train.npz', 'small_bert_bert_en_uncased_L-8_H-128_A-2_batch_size_16_train.npz', 'small_bert_bert_en_uncased_L-8_H-512_A-8_batch_size_16_train.npz', 'small_bert_bert_en_uncased_L-8_H-256_A-4_batch_size_64_train.npz']\n",
      "38524e2ff135ded55b5286407e7af6b7.npz ['experts_wiki_books_batch_size_32_test.npz', 'small_bert_bert_en_uncased_L-12_H-512_A-8_batch_size_64_test.npz', 'small_bert_bert_en_uncased_L-12_H-512_A-8_batch_size_16_test.npz', 'electra_base_batch_size_32_test.npz', 'experts_pubmed_batch_size_64_test.npz', 'small_bert_bert_en_uncased_L-12_H-768_A-12_batch_size_32_test.npz', 'bert_en_uncased_L-12_H-768_A-12_batch_size_16_test.npz', 'bert_multi_cased_L-12_H-768_A-12_batch_size_32_test.npz', 'experts_wiki_books_batch_size_16_test.npz', 'bert_en_cased_L-12_H-768_A-12_batch_size_32_test.npz', 'small_bert_bert_en_uncased_L-12_H-128_A-2_batch_size_32_test.npz', 'bert_en_cased_L-12_H-768_A-12_batch_size_64_test.npz', 'small_bert_bert_en_uncased_L-12_H-768_A-12_batch_size_16_test.npz', 'bert_en_uncased_L-12_H-768_A-12_batch_size_64_test.npz', 'small_bert_bert_en_uncased_L-12_H-128_A-2_batch_size_64_test.npz', 'bert_multi_cased_L-12_H-768_A-12_batch_size_64_test.npz', 'small_bert_bert_en_uncased_L-12_H-512_A-8_batch_size_32_test.npz', 'small_bert_bert_en_uncased_L-12_H-256_A-4_batch_size_64_test.npz', 'small_bert_bert_en_uncased_L-12_H-256_A-4_batch_size_32_test.npz', 'experts_wiki_books_batch_size_64_test.npz', 'electra_base_batch_size_64_test.npz', 'bert_en_uncased_L-12_H-768_A-12_batch_size_32_test.npz', 'small_bert_bert_en_uncased_L-12_H-768_A-12_batch_size_64_test.npz', 'small_bert_bert_en_uncased_L-12_H-256_A-4_batch_size_16_test.npz', 'experts_pubmed_batch_size_32_test.npz', 'bert_en_cased_L-12_H-768_A-12_batch_size_16_test.npz']\n",
      "6c1101f6231f4d1722c3b9f6d1e25026.npz ['small_bert_bert_en_uncased_L-2_H-128_A-2_batch_size_16_train.npz', 'small_bert_bert_en_uncased_L-2_H-256_A-4_batch_size_16_train.npz', 'small_bert_bert_en_uncased_L-2_H-512_A-8_batch_size_64_train.npz', 'small_bert_bert_en_uncased_L-2_H-256_A-4_batch_size_64_train.npz', 'small_bert_bert_en_uncased_L-2_H-768_A-12_batch_size_16_train.npz', 'small_bert_bert_en_uncased_L-2_H-768_A-12_batch_size_32_train.npz', 'small_bert_bert_en_uncased_L-2_H-128_A-2_batch_size_64_train.npz', 'small_bert_bert_en_uncased_L-2_H-512_A-8_batch_size_32_train.npz', 'small_bert_bert_en_uncased_L-2_H-512_A-8_batch_size_16_train.npz', 'small_bert_bert_en_uncased_L-2_H-256_A-4_batch_size_32_train.npz']\n",
      "60880ed76de53f4d7a1b960b24f20f7d.npz ['experts_wiki_books_batch_size_32_test.npz', 'small_bert_bert_en_uncased_L-12_H-512_A-8_batch_size_64_test.npz', 'small_bert_bert_en_uncased_L-12_H-512_A-8_batch_size_16_test.npz', 'electra_base_batch_size_32_test.npz', 'experts_pubmed_batch_size_64_test.npz', 'small_bert_bert_en_uncased_L-12_H-768_A-12_batch_size_32_test.npz', 'bert_en_uncased_L-12_H-768_A-12_batch_size_16_test.npz', 'bert_multi_cased_L-12_H-768_A-12_batch_size_32_test.npz', 'experts_wiki_books_batch_size_16_test.npz', 'bert_en_cased_L-12_H-768_A-12_batch_size_32_test.npz', 'small_bert_bert_en_uncased_L-12_H-128_A-2_batch_size_32_test.npz', 'bert_en_cased_L-12_H-768_A-12_batch_size_64_test.npz', 'small_bert_bert_en_uncased_L-12_H-768_A-12_batch_size_16_test.npz', 'bert_en_uncased_L-12_H-768_A-12_batch_size_64_test.npz', 'small_bert_bert_en_uncased_L-12_H-128_A-2_batch_size_64_test.npz', 'bert_multi_cased_L-12_H-768_A-12_batch_size_64_test.npz', 'small_bert_bert_en_uncased_L-12_H-512_A-8_batch_size_32_test.npz', 'small_bert_bert_en_uncased_L-12_H-256_A-4_batch_size_64_test.npz', 'small_bert_bert_en_uncased_L-12_H-256_A-4_batch_size_32_test.npz', 'experts_wiki_books_batch_size_64_test.npz', 'electra_base_batch_size_64_test.npz', 'bert_en_uncased_L-12_H-768_A-12_batch_size_32_test.npz', 'small_bert_bert_en_uncased_L-12_H-768_A-12_batch_size_64_test.npz', 'small_bert_bert_en_uncased_L-12_H-256_A-4_batch_size_16_test.npz', 'experts_pubmed_batch_size_32_test.npz', 'bert_en_cased_L-12_H-768_A-12_batch_size_16_test.npz']\n",
      "7105451001e119f65b66570d170b94a8.npz ['small_bert_bert_en_uncased_L-2_H-128_A-2_batch_size_16_train.npz', 'small_bert_bert_en_uncased_L-2_H-256_A-4_batch_size_16_train.npz', 'small_bert_bert_en_uncased_L-2_H-512_A-8_batch_size_64_train.npz', 'small_bert_bert_en_uncased_L-2_H-256_A-4_batch_size_64_train.npz', 'small_bert_bert_en_uncased_L-2_H-768_A-12_batch_size_16_train.npz', 'small_bert_bert_en_uncased_L-2_H-768_A-12_batch_size_32_train.npz', 'small_bert_bert_en_uncased_L-2_H-128_A-2_batch_size_64_train.npz', 'small_bert_bert_en_uncased_L-2_H-512_A-8_batch_size_32_train.npz', 'small_bert_bert_en_uncased_L-2_H-512_A-8_batch_size_16_train.npz', 'small_bert_bert_en_uncased_L-2_H-256_A-4_batch_size_32_train.npz']\n",
      "29886a50d55cfe77a9497bc906c76ce9.npz ['small_bert_bert_en_uncased_L-4_H-256_A-4_batch_size_64_train.npz', 'small_bert_bert_en_uncased_L-4_H-768_A-12_batch_size_32_train.npz', 'small_bert_bert_en_uncased_L-4_H-256_A-4_batch_size_16_train.npz', 'small_bert_bert_en_uncased_L-4_H-128_A-2_batch_size_32_train.npz', 'small_bert_bert_en_uncased_L-4_H-768_A-12_batch_size_64_train.npz', 'small_bert_bert_en_uncased_L-4_H-768_A-12_batch_size_16_train.npz', 'small_bert_bert_en_uncased_L-4_H-512_A-8_batch_size_64_train.npz', 'small_bert_bert_en_uncased_L-4_H-128_A-2_batch_size_16_train.npz', 'small_bert_bert_en_uncased_L-4_H-256_A-4_batch_size_32_train.npz', 'small_bert_bert_en_uncased_L-4_H-512_A-8_batch_size_32_train.npz']\n",
      "23559853d9702baaaacbb0c83fd32266.npz ['small_bert_bert_en_uncased_L-4_H-256_A-4_batch_size_32_test.npz', 'small_bert_bert_en_uncased_L-4_H-512_A-8_batch_size_32_test.npz', 'small_bert_bert_en_uncased_L-4_H-768_A-12_batch_size_64_test.npz', 'small_bert_bert_en_uncased_L-4_H-512_A-8_batch_size_16_test.npz', 'small_bert_bert_en_uncased_L-4_H-512_A-8_batch_size_64_test.npz', 'small_bert_bert_en_uncased_L-4_H-768_A-12_batch_size_32_test.npz', 'small_bert_bert_en_uncased_L-4_H-128_A-2_batch_size_64_test.npz', 'small_bert_bert_en_uncased_L-4_H-256_A-4_batch_size_64_test.npz']\n",
      "171b0513d8874a427ccfa46d136fbadc.npz ['small_bert_bert_en_uncased_L-12_H-256_A-4_batch_size_64_train.npz', 'experts_wiki_books_batch_size_16_train.npz', 'small_bert_bert_en_uncased_L-12_H-512_A-8_batch_size_16_train.npz', 'bert_en_uncased_L-12_H-768_A-12_batch_size_64_train.npz', 'small_bert_bert_en_uncased_L-12_H-256_A-4_batch_size_32_train.npz', 'bert_en_uncased_L-12_H-768_A-12_batch_size_16_train.npz', 'small_bert_bert_en_uncased_L-12_H-256_A-4_batch_size_16_train.npz', 'experts_pubmed_batch_size_64_train.npz', 'small_bert_bert_en_uncased_L-12_H-128_A-2_batch_size_16_train.npz', 'small_bert_bert_en_uncased_L-12_H-128_A-2_batch_size_32_train.npz', 'bert_en_cased_L-12_H-768_A-12_batch_size_16_train.npz', 'experts_wiki_books_batch_size_32_train.npz', 'experts_pubmed_batch_size_32_train.npz', 'experts_wiki_books_batch_size_64_train.npz', 'electra_base_batch_size_16_train.npz', 'electra_base_batch_size_64_train.npz', 'bert_multi_cased_L-12_H-768_A-12_batch_size_64_train.npz', 'small_bert_bert_en_uncased_L-12_H-512_A-8_batch_size_32_train.npz', 'bert_multi_cased_L-12_H-768_A-12_batch_size_32_train.npz', 'electra_base_batch_size_32_train.npz', 'small_bert_bert_en_uncased_L-12_H-512_A-8_batch_size_64_train.npz', 'small_bert_bert_en_uncased_L-12_H-768_A-12_batch_size_32_train.npz', 'bert_en_uncased_L-12_H-768_A-12_batch_size_32_train.npz', 'small_bert_bert_en_uncased_L-12_H-128_A-2_batch_size_64_train.npz', 'bert_en_cased_L-12_H-768_A-12_batch_size_64_train.npz', 'bert_en_cased_L-12_H-768_A-12_batch_size_32_train.npz', 'small_bert_bert_en_uncased_L-12_H-768_A-12_batch_size_16_train.npz', 'bert_multi_cased_L-12_H-768_A-12_batch_size_16_train.npz', 'small_bert_bert_en_uncased_L-12_H-768_A-12_batch_size_64_train.npz']\n",
      "b2fdde3b72980907578648774101543e.npz ['small_bert_bert_en_uncased_L-6_H-512_A-8_batch_size_32_test.npz', 'small_bert_bert_en_uncased_L-6_H-768_A-12_batch_size_64_test.npz', 'small_bert_bert_en_uncased_L-6_H-128_A-2_batch_size_64_test.npz', 'small_bert_bert_en_uncased_L-6_H-256_A-4_batch_size_64_test.npz', 'small_bert_bert_en_uncased_L-6_H-256_A-4_batch_size_16_test.npz', 'small_bert_bert_en_uncased_L-6_H-768_A-12_batch_size_32_test.npz', 'small_bert_bert_en_uncased_L-6_H-512_A-8_batch_size_16_test.npz', 'small_bert_bert_en_uncased_L-6_H-512_A-8_batch_size_64_test.npz', 'small_bert_bert_en_uncased_L-6_H-768_A-12_batch_size_16_test.npz']\n",
      "71b79ca6db513e7979c3702c595150c2.npz ['talking-heads_large_batch_size_32_test.npz', 'talking-heads_large_batch_size_16_test.npz']\n",
      "32531d07a084b319dce484f53a4cf3fc.npz ['small_bert_bert_en_uncased_L-4_H-256_A-4_batch_size_64_train.npz', 'small_bert_bert_en_uncased_L-4_H-768_A-12_batch_size_32_train.npz', 'small_bert_bert_en_uncased_L-4_H-256_A-4_batch_size_16_train.npz', 'small_bert_bert_en_uncased_L-4_H-128_A-2_batch_size_32_train.npz', 'small_bert_bert_en_uncased_L-4_H-768_A-12_batch_size_64_train.npz', 'small_bert_bert_en_uncased_L-4_H-768_A-12_batch_size_16_train.npz', 'small_bert_bert_en_uncased_L-4_H-512_A-8_batch_size_64_train.npz', 'small_bert_bert_en_uncased_L-4_H-128_A-2_batch_size_16_train.npz', 'small_bert_bert_en_uncased_L-4_H-256_A-4_batch_size_32_train.npz', 'small_bert_bert_en_uncased_L-4_H-512_A-8_batch_size_32_train.npz']\n",
      "3a0c5517a87df8d82fd637b83298a3ba.npz ['talking-heads_large_batch_size_32_train.npz', 'talking-heads_large_batch_size_16_train.npz']\n",
      "016ac66a44a906a695afd2228509046a.npz ['small_bert_bert_en_uncased_L-8_H-512_A-8_batch_size_32_test.npz', 'small_bert_bert_en_uncased_L-8_H-256_A-4_batch_size_32_test.npz', 'small_bert_bert_en_uncased_L-8_H-128_A-2_batch_size_32_test.npz', 'small_bert_bert_en_uncased_L-8_H-768_A-12_batch_size_32_test.npz', 'small_bert_bert_en_uncased_L-8_H-256_A-4_batch_size_64_test.npz', 'small_bert_bert_en_uncased_L-8_H-768_A-12_batch_size_64_test.npz', 'small_bert_bert_en_uncased_L-8_H-768_A-12_batch_size_16_test.npz', 'small_bert_bert_en_uncased_L-8_H-512_A-8_batch_size_16_test.npz']\n",
      "--------------------------------------------------------------------------------------------------------------\n"
     ]
    },
    {
     "name": "stderr",
     "output_type": "stream",
     "text": [
      "\n"
     ]
    }
   ],
   "source": [
    "# find those files has same graph architecture for each test file \n",
    "import os\n",
    "import numpy\n",
    "from tqdm import tqdm\n",
    "\n",
    "for source in [\"xla\", \"nlp\"]:\n",
    "    for search in [\"random\", \"default\"]:\n",
    "        # find architecture of test set file based on edge_index\n",
    "        train_folder = f\"/home/thanh/google_fast_or_slow/data/npz_all/npz/layout/{source}_compressed/{search}/train\"\n",
    "        val_folder = f\"/home/thanh/google_fast_or_slow/data/npz_all/npz/layout/{source}_compressed/{search}/valid\"\n",
    "        test_folder = f\"/home/thanh/google_fast_or_slow/data/npz_all/npz/layout/{source}_compressed/{search}/test\"\n",
    "\n",
    "        train_files = [os.path.join(train_folder, f) for f in os.listdir(train_folder)]\n",
    "        val_files = [os.path.join(val_folder, f) for f in os.listdir(val_folder)]\n",
    "        test_files = [os.path.join(test_folder, f) for f in os.listdir(test_folder)]\n",
    "\n",
    "        # create a dict of filename: edge_index\n",
    "        train_files_dict = {}\n",
    "        for f in tqdm(train_files + val_files):\n",
    "            train_files_dict[os.path.basename(f)] = numpy.load(os.path.join(train_folder, f))[\"edge_index\"]\n",
    "\n",
    "        # find test files that have the same edge_index as train files\n",
    "        test_files_dict = {}\n",
    "        for f in tqdm(test_files):\n",
    "            edge_index = numpy.load(os.path.join(test_folder, f))[\"edge_index\"]\n",
    "            for k, v in train_files_dict.items():\n",
    "                if edge_index.shape[0] == v.shape[0] and (edge_index == v).all():\n",
    "                    if os.path.basename(f) not in test_files_dict:\n",
    "                        test_files_dict[os.path.basename(f)] = []\n",
    "                    test_files_dict[os.path.basename(f)].append(k)\n",
    "\n",
    "        # for file, list_similar in test_files_dict.items():\n",
    "        #     print(os.path.basename(file), len(list_similar))\n",
    "\n",
    "        print(\"Source:\", source, \"Search:\", search)\n",
    "        print(\"count/total\", len(test_files_dict), len(test_files))\n",
    "\n",
    "        for k, v in test_files_dict.items():\n",
    "            print(k, v)\n",
    "        \n",
    "        print(\"-----------\" * 10)"
   ]
  },
  {
   "cell_type": "code",
   "execution_count": null,
   "metadata": {},
   "outputs": [],
   "source": []
  },
  {
   "cell_type": "code",
   "execution_count": null,
   "metadata": {},
   "outputs": [],
   "source": []
  },
  {
   "cell_type": "code",
   "execution_count": null,
   "metadata": {},
   "outputs": [],
   "source": []
  },
  {
   "cell_type": "code",
   "execution_count": null,
   "metadata": {},
   "outputs": [],
   "source": []
  }
 ],
 "metadata": {
  "kernelspec": {
   "display_name": "kaggle_tpu",
   "language": "python",
   "name": "python3"
  },
  "language_info": {
   "codemirror_mode": {
    "name": "ipython",
    "version": 3
   },
   "file_extension": ".py",
   "mimetype": "text/x-python",
   "name": "python",
   "nbconvert_exporter": "python",
   "pygments_lexer": "ipython3",
   "version": "3.8.16"
  }
 },
 "nbformat": 4,
 "nbformat_minor": 2
}
